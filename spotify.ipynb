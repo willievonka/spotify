{
 "metadata": {
  "kernelspec": {
   "language": "python",
   "display_name": "Python 3",
   "name": "python3"
  },
  "language_info": {
   "name": "python",
   "version": "3.10.14",
   "mimetype": "text/x-python",
   "codemirror_mode": {
    "name": "ipython",
    "version": 3
   },
   "pygments_lexer": "ipython3",
   "nbconvert_exporter": "python",
   "file_extension": ".py"
  },
  "kaggle": {
   "accelerator": "none",
   "dataSources": [
    {
     "sourceId": 9741366,
     "sourceType": "datasetVersion",
     "datasetId": 5962750
    }
   ],
   "dockerImageVersionId": 30786,
   "isInternetEnabled": true,
   "language": "python",
   "sourceType": "notebook",
   "isGpuEnabled": false
  }
 },
 "nbformat_minor": 4,
 "nbformat": 4,
 "cells": [
  {
   "metadata": {},
   "cell_type": "code",
   "outputs": [],
   "execution_count": null,
   "source": [
    "import numpy as np\n",
    "import pandas as pd\n",
    "import matplotlib.pyplot as plt\n",
    "import seaborn as sns\n",
    "from sklearn.model_selection import train_test_split\n",
    "from sklearn.preprocessing import StandardScaler, LabelEncoder\n",
    "from sklearn.metrics import mean_absolute_error, mean_squared_error, mean_absolute_percentage_error\n",
    "from sklearn.inspection import permutation_importance\n",
    "from sklearn.linear_model import LinearRegression\n",
    "from sklearn.tree import DecisionTreeRegressor\n",
    "from sklearn.ensemble import GradientBoostingRegressor\n",
    "from sklearn.neighbors import KNeighborsRegressor\n",
    "from sklearn.model_selection import cross_val_score\n",
    "import tensorflow as tf\n",
    "from tensorflow import keras"
   ]
  },
  {
   "metadata": {},
   "cell_type": "code",
   "outputs": [],
   "execution_count": null,
   "source": [
    "data = pd.read_csv('dataset.csv')\n",
    "\n",
    "print(data.head())\n",
    "print(data.info())\n",
    "print(data.describe())"
   ]
  },
  {
   "metadata": {},
   "cell_type": "code",
   "outputs": [],
   "execution_count": null,
   "source": [
    "print(data.isnull().sum())\n",
    "\n",
    "data = data.dropna()\n",
    "print(data.isnull().sum())"
   ]
  },
  {
   "metadata": {},
   "cell_type": "code",
   "outputs": [],
   "execution_count": null,
   "source": [
    "# График 1: Распределение целевой переменной `popularity`\n",
    "plt.figure(figsize=(10, 6))\n",
    "sns.histplot(data['popularity'], bins=30, kde=True)\n",
    "plt.title('Распределение популярности')\n",
    "plt.xlabel('Популярность')\n",
    "plt.ylabel('Частота')\n",
    "plt.show()\n",
    "\n",
    "# Вывод: Распределение популярности песен в нашем наборе данных показывает, что большинство песен имеют среднюю популярность"
   ]
  },
  {
   "metadata": {},
   "cell_type": "code",
   "outputs": [],
   "execution_count": null,
   "source": [
    "# График 2: Распределение числовых признаков\n",
    "numerical_features = data.select_dtypes(include=['number']).columns.tolist()\n",
    "data[numerical_features].hist(bins=30, figsize=(15, 10), layout=(5, 3))\n",
    "plt.suptitle('Распределение числовых признаков')\n",
    "plt.show()\n",
    "\n",
    "# Вывод: Распределение числовых признаков показывает, что некоторые признаки, такие как `duration_ms`, имеют широкий диапазон значений"
   ]
  },
  {
   "metadata": {},
   "cell_type": "code",
   "outputs": [],
   "execution_count": null,
   "source": [
    "# График 3: Взаимосвязь между числовыми признаками и популярностью\n",
    "plt.figure(figsize=(15, 10))\n",
    "for i, col in enumerate(numerical_features):\n",
    "    plt.subplot(5, 3, i+1)\n",
    "    sns.scatterplot(x=data[col], y=data['popularity'])\n",
    "    plt.title(f'{col} vs Popularity')\n",
    "plt.tight_layout()\n",
    "plt.show()\n",
    "\n",
    "# Вывод: Эти графики показывают, что некоторые числовые признаки, такие как `danceability` и `energy`, имеют явную зависимость с популярностью"
   ]
  },
  {
   "metadata": {},
   "cell_type": "code",
   "outputs": [],
   "execution_count": null,
   "source": [
    "categorical_features = data.select_dtypes(include=['object']).columns.tolist()\n",
    "label_encoders = {}\n",
    "for col in categorical_features:\n",
    "    le = LabelEncoder()\n",
    "    data[col] = le.fit_transform(data[col])\n",
    "    label_encoders[col] = le"
   ]
  },
  {
   "metadata": {},
   "cell_type": "code",
   "outputs": [],
   "execution_count": null,
   "source": [
    "# График 5: Корреляционная матрица\n",
    "plt.figure(figsize=(12, 10))\n",
    "correlation_matrix = data.corr()\n",
    "sns.heatmap(correlation_matrix, annot=True, cmap='coolwarm', fmt='.2f')\n",
    "plt.title('Корреляционная матрица')\n",
    "plt.show()\n",
    "\n",
    "# Вывод: Корреляционная матрица показывает, что некоторые признаки имеют сильную корреляцию с популярностью, например, `danceability` и `energy`"
   ]
  },
  {
   "metadata": {},
   "cell_type": "code",
   "outputs": [],
   "execution_count": null,
   "source": [
    "# Разделение данных на обучающую и тестовую выборки\n",
    "X = data.drop(columns=['popularity'])\n",
    "y = data['popularity']\n",
    "X_train, X_test, y_train, y_test = train_test_split(X, y, test_size=0.2, random_state=42)"
   ]
  },
  {
   "metadata": {},
   "cell_type": "code",
   "outputs": [],
   "execution_count": null,
   "source": [
    "# Масштабирование числовых признаков\n",
    "scaler = StandardScaler()\n",
    "X_train = scaler.fit_transform(X_train)\n",
    "X_test = scaler.transform(X_test)"
   ]
  },
  {
   "metadata": {},
   "cell_type": "code",
   "outputs": [],
   "execution_count": null,
   "source": [
    "# Построение и обучение простой модели (линейная регрессия)\n",
    "linear_model = LinearRegression()\n",
    "linear_model.fit(X_train, y_train)\n",
    "\n",
    "# Оценка модели\n",
    "y_pred = linear_model.predict(X_test)\n",
    "mae = mean_absolute_error(y_test, y_pred)\n",
    "mse = mean_squared_error(y_test, y_pred)\n",
    "rmse = mse ** 0.5\n",
    "mape = mean_absolute_percentage_error(y_test, y_pred)\n",
    "\n",
    "print(f'Линейная регрессия - MAE: {mae}, RMSE: {rmse}, MAPE: {mape}')"
   ]
  },
  {
   "metadata": {},
   "cell_type": "code",
   "outputs": [],
   "execution_count": null,
   "source": [
    "# Важность признаков с помощью permutation importance\n",
    "result = permutation_importance(linear_model, X_test, y_test, n_repeats=10, random_state=42, scoring='neg_mean_absolute_error')\n",
    "importances = pd.Series(result.importances_mean, index=X.columns)\n",
    "\n",
    "# Визуализация важности признаков\n",
    "importances.sort_values().plot(kind='barh', figsize=(10,6))\n",
    "plt.title('Важность признаков')\n",
    "plt.xlabel('Среднее уменьшение MAE')\n",
    "plt.show()\n"
   ]
  },
  {
   "metadata": {},
   "cell_type": "code",
   "outputs": [],
   "execution_count": null,
   "source": [
    "# Модель 1: Decision Tree\n",
    "tree_model = DecisionTreeRegressor(random_state=42)\n",
    "tree_model.fit(X_train, y_train)\n",
    "tree_scores = cross_val_score(tree_model, X, y, cv=5, scoring='neg_mean_absolute_error')\n",
    "print(f'Decision Tree - MAE: {-tree_scores.mean()}')"
   ]
  },
  {
   "metadata": {},
   "cell_type": "code",
   "outputs": [],
   "execution_count": null,
   "source": [
    "# Модель 2: Gradient Boosting\n",
    "gb_model = GradientBoostingRegressor(random_state=42)\n",
    "gb_model.fit(X_train, y_train)\n",
    "gb_scores = cross_val_score(gb_model, X, y, cv=5, scoring='neg_mean_absolute_error')\n",
    "print(f'Gradient Boosting - MAE: {-gb_scores.mean()}')"
   ]
  },
  {
   "metadata": {},
   "cell_type": "code",
   "outputs": [],
   "execution_count": null,
   "source": [
    "# Модель 3: K-Nearest Neighbors\n",
    "knn_model = KNeighborsRegressor()\n",
    "knn_model.fit(X_train, y_train)\n",
    "knn_scores = cross_val_score(knn_model, X, y, cv=5, scoring='neg_mean_absolute_error')\n",
    "print(f'K-Nearest Neighbors - MAE: {-knn_scores.mean()}')"
   ]
  },
  {
   "metadata": {},
   "cell_type": "code",
   "outputs": [],
   "execution_count": null,
   "source": [
    "# Модель 4: Нейронная сеть\n",
    "nn_model = keras.Sequential([\n",
    "    keras.layers.Dense(64, activation='relu', input_shape=(X_train.shape[1],)),\n",
    "    keras.layers.Dense(64, activation='relu'),\n",
    "    keras.layers.Dense(1)\n",
    "])\n",
    "nn_model.compile(optimizer='adam', loss='mean_squared_error')\n",
    "nn_model.fit(X_train, y_train, epochs=10, batch_size=32, validation_split=0.2)\n",
    "nn_scores = -cross_val_score(nn_model, X, y, cv=5, scoring='neg_mean_absolute_error')\n",
    "print(f'Нейронная сеть - MAE: {nn_scores.mean()}')\n",
    "\n"
   ]
  },
  {
   "metadata": {},
   "cell_type": "code",
   "outputs": [],
   "execution_count": null,
   "source": "# Итоговый вывод: На основе результатов кросс-валидации, модель Gradient Boosting показала наилучшие результаты."
  }
 ]
}
